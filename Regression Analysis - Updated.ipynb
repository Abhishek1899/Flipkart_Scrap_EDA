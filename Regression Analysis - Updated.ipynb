{
 "cells": [
  {
   "cell_type": "code",
   "execution_count": 158,
   "metadata": {},
   "outputs": [],
   "source": [
    "import numpy as np\n",
    "import pandas as pd\n",
    "\n",
    "# Viz\n",
    "import matplotlib.pyplot as plt\n",
    "import seaborn as sns"
   ]
  },
  {
   "cell_type": "code",
   "execution_count": 159,
   "metadata": {},
   "outputs": [
    {
     "data": {
      "text/html": [
       "<div>\n",
       "<style scoped>\n",
       "    .dataframe tbody tr th:only-of-type {\n",
       "        vertical-align: middle;\n",
       "    }\n",
       "\n",
       "    .dataframe tbody tr th {\n",
       "        vertical-align: top;\n",
       "    }\n",
       "\n",
       "    .dataframe thead th {\n",
       "        text-align: right;\n",
       "    }\n",
       "</style>\n",
       "<table border=\"1\" class=\"dataframe\">\n",
       "  <thead>\n",
       "    <tr style=\"text-align: right;\">\n",
       "      <th></th>\n",
       "      <th>name</th>\n",
       "      <th>ratings</th>\n",
       "      <th>num_ratings</th>\n",
       "      <th>processor</th>\n",
       "      <th>ram</th>\n",
       "      <th>os</th>\n",
       "      <th>storage</th>\n",
       "      <th>display</th>\n",
       "      <th>price</th>\n",
       "      <th>org_price</th>\n",
       "      <th>Brand</th>\n",
       "      <th>num_reviews</th>\n",
       "      <th>ram_type</th>\n",
       "      <th>Discount</th>\n",
       "    </tr>\n",
       "  </thead>\n",
       "  <tbody>\n",
       "    <tr>\n",
       "      <th>0</th>\n",
       "      <td>Lenovo Ideapad S145 Core i5 10th Gen - (8 GB/1...</td>\n",
       "      <td>4.0</td>\n",
       "      <td>431.0</td>\n",
       "      <td>Intel Core i5 Processor (10th Gen)</td>\n",
       "      <td>8</td>\n",
       "      <td>64 bit Windows 10 Operating System</td>\n",
       "      <td>1 TB HDD</td>\n",
       "      <td>39.62</td>\n",
       "      <td>42990</td>\n",
       "      <td>66190.0</td>\n",
       "      <td>Lenovo</td>\n",
       "      <td>62.0</td>\n",
       "      <td>DDR4</td>\n",
       "      <td>35.050612</td>\n",
       "    </tr>\n",
       "    <tr>\n",
       "      <th>1</th>\n",
       "      <td>Lenovo Ideapad S145 Core i3 10th Gen - (4 GB/1...</td>\n",
       "      <td>4.3</td>\n",
       "      <td>20.0</td>\n",
       "      <td>Intel Core i3 Processor (10th Gen)</td>\n",
       "      <td>4</td>\n",
       "      <td>64 bit Windows 10 Operating System</td>\n",
       "      <td>1 TB HDD</td>\n",
       "      <td>39.62</td>\n",
       "      <td>31990</td>\n",
       "      <td>42490.0</td>\n",
       "      <td>Lenovo</td>\n",
       "      <td>4.0</td>\n",
       "      <td>DDR4</td>\n",
       "      <td>24.711697</td>\n",
       "    </tr>\n",
       "    <tr>\n",
       "      <th>2</th>\n",
       "      <td>Acer Aspire 7 Core i5 9th Gen - (8 GB/512 GB S...</td>\n",
       "      <td>4.5</td>\n",
       "      <td>5317.0</td>\n",
       "      <td>Intel Core i5 Processor (9th Gen)</td>\n",
       "      <td>8</td>\n",
       "      <td>64 bit Windows 10 Operating System</td>\n",
       "      <td>512 GB SSD</td>\n",
       "      <td>39.62</td>\n",
       "      <td>49990</td>\n",
       "      <td>79999.0</td>\n",
       "      <td>Acer</td>\n",
       "      <td>979.0</td>\n",
       "      <td>DDR4</td>\n",
       "      <td>37.511719</td>\n",
       "    </tr>\n",
       "    <tr>\n",
       "      <th>3</th>\n",
       "      <td>Apple MacBook Air Core i5 5th Gen - (8 GB/128 ...</td>\n",
       "      <td>4.7</td>\n",
       "      <td>25629.0</td>\n",
       "      <td>Intel Core i5 Processor (5th Gen)</td>\n",
       "      <td>8</td>\n",
       "      <td>64 bit Mac OS Operating System</td>\n",
       "      <td>128 GB SSD</td>\n",
       "      <td>33.78</td>\n",
       "      <td>59990</td>\n",
       "      <td>84900.0</td>\n",
       "      <td>Apple</td>\n",
       "      <td>2870.0</td>\n",
       "      <td>DDR3</td>\n",
       "      <td>29.340400</td>\n",
       "    </tr>\n",
       "    <tr>\n",
       "      <th>4</th>\n",
       "      <td>Lenovo Ideapad L340 Core i5 9th Gen - (8 GB/1 ...</td>\n",
       "      <td>4.8</td>\n",
       "      <td>55.0</td>\n",
       "      <td>Intel Core i5 Processor (9th Gen)</td>\n",
       "      <td>8</td>\n",
       "      <td>64 bit Windows 10 Operating System</td>\n",
       "      <td>1 TB HDD|256 GB SSD</td>\n",
       "      <td>39.62</td>\n",
       "      <td>55990</td>\n",
       "      <td>79690.0</td>\n",
       "      <td>Lenovo</td>\n",
       "      <td>6.0</td>\n",
       "      <td>DDR4</td>\n",
       "      <td>29.740243</td>\n",
       "    </tr>\n",
       "  </tbody>\n",
       "</table>\n",
       "</div>"
      ],
      "text/plain": [
       "                                                name  ratings  num_ratings  \\\n",
       "0  Lenovo Ideapad S145 Core i5 10th Gen - (8 GB/1...      4.0        431.0   \n",
       "1  Lenovo Ideapad S145 Core i3 10th Gen - (4 GB/1...      4.3         20.0   \n",
       "2  Acer Aspire 7 Core i5 9th Gen - (8 GB/512 GB S...      4.5       5317.0   \n",
       "3  Apple MacBook Air Core i5 5th Gen - (8 GB/128 ...      4.7      25629.0   \n",
       "4  Lenovo Ideapad L340 Core i5 9th Gen - (8 GB/1 ...      4.8         55.0   \n",
       "\n",
       "                            processor  ram  \\\n",
       "0  Intel Core i5 Processor (10th Gen)    8   \n",
       "1  Intel Core i3 Processor (10th Gen)    4   \n",
       "2   Intel Core i5 Processor (9th Gen)    8   \n",
       "3   Intel Core i5 Processor (5th Gen)    8   \n",
       "4   Intel Core i5 Processor (9th Gen)    8   \n",
       "\n",
       "                                   os              storage  display  price  \\\n",
       "0  64 bit Windows 10 Operating System             1 TB HDD    39.62  42990   \n",
       "1  64 bit Windows 10 Operating System             1 TB HDD    39.62  31990   \n",
       "2  64 bit Windows 10 Operating System           512 GB SSD    39.62  49990   \n",
       "3      64 bit Mac OS Operating System           128 GB SSD    33.78  59990   \n",
       "4  64 bit Windows 10 Operating System  1 TB HDD|256 GB SSD    39.62  55990   \n",
       "\n",
       "   org_price   Brand  num_reviews ram_type   Discount  \n",
       "0    66190.0  Lenovo         62.0     DDR4  35.050612  \n",
       "1    42490.0  Lenovo          4.0     DDR4  24.711697  \n",
       "2    79999.0    Acer        979.0     DDR4  37.511719  \n",
       "3    84900.0   Apple       2870.0     DDR3  29.340400  \n",
       "4    79690.0  Lenovo          6.0     DDR4  29.740243  "
      ]
     },
     "execution_count": 159,
     "metadata": {},
     "output_type": "execute_result"
    }
   ],
   "source": [
    "# Read the csv\n",
    "df_lappy = pd.read_csv('lappy_eda.csv')\n",
    "df_lappy.head()"
   ]
  },
  {
   "cell_type": "code",
   "execution_count": 160,
   "metadata": {},
   "outputs": [
    {
     "data": {
      "text/plain": [
       "DDR4       497\n",
       "DDR3        53\n",
       "LPDDR4X     15\n",
       "LPDDR3      10\n",
       "RAM          1\n",
       "Name: ram_type, dtype: int64"
      ]
     },
     "execution_count": 160,
     "metadata": {},
     "output_type": "execute_result"
    }
   ],
   "source": [
    "df_lappy.ram_type.value_counts()"
   ]
  },
  {
   "cell_type": "markdown",
   "metadata": {},
   "source": [
    "# APPROACH 1"
   ]
  },
  {
   "cell_type": "markdown",
   "metadata": {},
   "source": [
    "# RAM and Display "
   ]
  },
  {
   "cell_type": "code",
   "execution_count": 161,
   "metadata": {},
   "outputs": [],
   "source": [
    "df_lappy.drop('name', axis = 1, inplace = True)"
   ]
  },
  {
   "cell_type": "code",
   "execution_count": 162,
   "metadata": {},
   "outputs": [
    {
     "data": {
      "text/plain": [
       "Index(['ratings', 'num_ratings', 'processor', 'ram', 'os', 'storage',\n",
       "       'display', 'price', 'org_price', 'Brand', 'num_reviews', 'ram_type',\n",
       "       'Discount'],\n",
       "      dtype='object')"
      ]
     },
     "execution_count": 162,
     "metadata": {},
     "output_type": "execute_result"
    }
   ],
   "source": [
    "df_lappy.columns"
   ]
  },
  {
   "cell_type": "code",
   "execution_count": 163,
   "metadata": {},
   "outputs": [
    {
     "data": {
      "text/plain": [
       "724"
      ]
     },
     "execution_count": 163,
     "metadata": {},
     "output_type": "execute_result"
    }
   ],
   "source": [
    "# drop the null values\n",
    "df_lappy.isnull().sum().sum()\n"
   ]
  },
  {
   "cell_type": "code",
   "execution_count": 164,
   "metadata": {},
   "outputs": [
    {
     "data": {
      "text/plain": [
       "(576, 13)"
      ]
     },
     "execution_count": 164,
     "metadata": {},
     "output_type": "execute_result"
    }
   ],
   "source": [
    "df_lappy.shape"
   ]
  },
  {
   "cell_type": "code",
   "execution_count": 165,
   "metadata": {},
   "outputs": [],
   "source": [
    "df_lappy = df_lappy.dropna()"
   ]
  },
  {
   "cell_type": "code",
   "execution_count": 166,
   "metadata": {},
   "outputs": [
    {
     "data": {
      "text/plain": [
       "(313, 13)"
      ]
     },
     "execution_count": 166,
     "metadata": {},
     "output_type": "execute_result"
    }
   ],
   "source": [
    "df_lappy.shape"
   ]
  },
  {
   "cell_type": "code",
   "execution_count": 167,
   "metadata": {},
   "outputs": [
    {
     "data": {
      "text/plain": [
       "0.5434027777777778"
      ]
     },
     "execution_count": 167,
     "metadata": {},
     "output_type": "execute_result"
    }
   ],
   "source": [
    "313/576"
   ]
  },
  {
   "cell_type": "code",
   "execution_count": 168,
   "metadata": {},
   "outputs": [
    {
     "data": {
      "text/plain": [
       "ratings        0\n",
       "num_ratings    0\n",
       "processor      0\n",
       "ram            0\n",
       "os             0\n",
       "storage        0\n",
       "display        0\n",
       "price          0\n",
       "org_price      0\n",
       "Brand          0\n",
       "num_reviews    0\n",
       "ram_type       0\n",
       "Discount       0\n",
       "dtype: int64"
      ]
     },
     "execution_count": 168,
     "metadata": {},
     "output_type": "execute_result"
    }
   ],
   "source": [
    "df_lappy.isnull().sum()"
   ]
  },
  {
   "cell_type": "code",
   "execution_count": 169,
   "metadata": {},
   "outputs": [],
   "source": [
    "df_lappy.drop(['processor', 'storage', 'os', 'Brand', 'ram_type'], axis = 1, inplace = True)"
   ]
  },
  {
   "cell_type": "code",
   "execution_count": 170,
   "metadata": {},
   "outputs": [
    {
     "data": {
      "text/html": [
       "<div>\n",
       "<style scoped>\n",
       "    .dataframe tbody tr th:only-of-type {\n",
       "        vertical-align: middle;\n",
       "    }\n",
       "\n",
       "    .dataframe tbody tr th {\n",
       "        vertical-align: top;\n",
       "    }\n",
       "\n",
       "    .dataframe thead th {\n",
       "        text-align: right;\n",
       "    }\n",
       "</style>\n",
       "<table border=\"1\" class=\"dataframe\">\n",
       "  <thead>\n",
       "    <tr style=\"text-align: right;\">\n",
       "      <th></th>\n",
       "      <th>ratings</th>\n",
       "      <th>num_ratings</th>\n",
       "      <th>ram</th>\n",
       "      <th>display</th>\n",
       "      <th>price</th>\n",
       "      <th>org_price</th>\n",
       "      <th>num_reviews</th>\n",
       "      <th>Discount</th>\n",
       "    </tr>\n",
       "  </thead>\n",
       "  <tbody>\n",
       "    <tr>\n",
       "      <th>0</th>\n",
       "      <td>4.0</td>\n",
       "      <td>431.0</td>\n",
       "      <td>8</td>\n",
       "      <td>39.62</td>\n",
       "      <td>42990</td>\n",
       "      <td>66190.0</td>\n",
       "      <td>62.0</td>\n",
       "      <td>35.050612</td>\n",
       "    </tr>\n",
       "    <tr>\n",
       "      <th>1</th>\n",
       "      <td>4.3</td>\n",
       "      <td>20.0</td>\n",
       "      <td>4</td>\n",
       "      <td>39.62</td>\n",
       "      <td>31990</td>\n",
       "      <td>42490.0</td>\n",
       "      <td>4.0</td>\n",
       "      <td>24.711697</td>\n",
       "    </tr>\n",
       "    <tr>\n",
       "      <th>2</th>\n",
       "      <td>4.5</td>\n",
       "      <td>5317.0</td>\n",
       "      <td>8</td>\n",
       "      <td>39.62</td>\n",
       "      <td>49990</td>\n",
       "      <td>79999.0</td>\n",
       "      <td>979.0</td>\n",
       "      <td>37.511719</td>\n",
       "    </tr>\n",
       "    <tr>\n",
       "      <th>3</th>\n",
       "      <td>4.7</td>\n",
       "      <td>25629.0</td>\n",
       "      <td>8</td>\n",
       "      <td>33.78</td>\n",
       "      <td>59990</td>\n",
       "      <td>84900.0</td>\n",
       "      <td>2870.0</td>\n",
       "      <td>29.340400</td>\n",
       "    </tr>\n",
       "    <tr>\n",
       "      <th>4</th>\n",
       "      <td>4.8</td>\n",
       "      <td>55.0</td>\n",
       "      <td>8</td>\n",
       "      <td>39.62</td>\n",
       "      <td>55990</td>\n",
       "      <td>79690.0</td>\n",
       "      <td>6.0</td>\n",
       "      <td>29.740243</td>\n",
       "    </tr>\n",
       "  </tbody>\n",
       "</table>\n",
       "</div>"
      ],
      "text/plain": [
       "   ratings  num_ratings  ram  display  price  org_price  num_reviews  \\\n",
       "0      4.0        431.0    8    39.62  42990    66190.0         62.0   \n",
       "1      4.3         20.0    4    39.62  31990    42490.0          4.0   \n",
       "2      4.5       5317.0    8    39.62  49990    79999.0        979.0   \n",
       "3      4.7      25629.0    8    33.78  59990    84900.0       2870.0   \n",
       "4      4.8         55.0    8    39.62  55990    79690.0          6.0   \n",
       "\n",
       "    Discount  \n",
       "0  35.050612  \n",
       "1  24.711697  \n",
       "2  37.511719  \n",
       "3  29.340400  \n",
       "4  29.740243  "
      ]
     },
     "execution_count": 170,
     "metadata": {},
     "output_type": "execute_result"
    }
   ],
   "source": [
    "df_lappy.head()"
   ]
  },
  {
   "cell_type": "code",
   "execution_count": 171,
   "metadata": {},
   "outputs": [
    {
     "data": {
      "text/plain": [
       "<AxesSubplot:>"
      ]
     },
     "execution_count": 171,
     "metadata": {},
     "output_type": "execute_result"
    },
    {
     "data": {
      "image/png": "[encoded data removed]",
      "text/plain": [
       "<Figure size 1080x576 with 2 Axes>"
      ]
     },
     "metadata": {
      "needs_background": "light"
     },
     "output_type": "display_data"
    }
   ],
   "source": [
    "plt.figure(figsize=(15, 8))\n",
    "corrmat = df_lappy.corr()\n",
    "sns.heatmap(corrmat, annot = True)"
   ]
  },
  {
   "cell_type": "code",
   "execution_count": 172,
   "metadata": {},
   "outputs": [],
   "source": [
    "df_lappy.drop(['ratings', 'num_ratings', 'price', 'num_reviews', 'Discount'], axis = 1, inplace = True)"
   ]
  },
  {
   "cell_type": "code",
   "execution_count": 173,
   "metadata": {},
   "outputs": [
    {
     "data": {
      "text/html": [
       "<div>\n",
       "<style scoped>\n",
       "    .dataframe tbody tr th:only-of-type {\n",
       "        vertical-align: middle;\n",
       "    }\n",
       "\n",
       "    .dataframe tbody tr th {\n",
       "        vertical-align: top;\n",
       "    }\n",
       "\n",
       "    .dataframe thead th {\n",
       "        text-align: right;\n",
       "    }\n",
       "</style>\n",
       "<table border=\"1\" class=\"dataframe\">\n",
       "  <thead>\n",
       "    <tr style=\"text-align: right;\">\n",
       "      <th></th>\n",
       "      <th>ram</th>\n",
       "      <th>display</th>\n",
       "      <th>org_price</th>\n",
       "    </tr>\n",
       "  </thead>\n",
       "  <tbody>\n",
       "    <tr>\n",
       "      <th>0</th>\n",
       "      <td>8</td>\n",
       "      <td>39.62</td>\n",
       "      <td>66190.0</td>\n",
       "    </tr>\n",
       "    <tr>\n",
       "      <th>1</th>\n",
       "      <td>4</td>\n",
       "      <td>39.62</td>\n",
       "      <td>42490.0</td>\n",
       "    </tr>\n",
       "    <tr>\n",
       "      <th>2</th>\n",
       "      <td>8</td>\n",
       "      <td>39.62</td>\n",
       "      <td>79999.0</td>\n",
       "    </tr>\n",
       "    <tr>\n",
       "      <th>3</th>\n",
       "      <td>8</td>\n",
       "      <td>33.78</td>\n",
       "      <td>84900.0</td>\n",
       "    </tr>\n",
       "    <tr>\n",
       "      <th>4</th>\n",
       "      <td>8</td>\n",
       "      <td>39.62</td>\n",
       "      <td>79690.0</td>\n",
       "    </tr>\n",
       "  </tbody>\n",
       "</table>\n",
       "</div>"
      ],
      "text/plain": [
       "   ram  display  org_price\n",
       "0    8    39.62    66190.0\n",
       "1    4    39.62    42490.0\n",
       "2    8    39.62    79999.0\n",
       "3    8    33.78    84900.0\n",
       "4    8    39.62    79690.0"
      ]
     },
     "execution_count": 173,
     "metadata": {},
     "output_type": "execute_result"
    }
   ],
   "source": [
    "df_lappy.head()"
   ]
  },
  {
   "cell_type": "markdown",
   "metadata": {},
   "source": [
    "# Skewness"
   ]
  },
  {
   "cell_type": "code",
   "execution_count": 174,
   "metadata": {},
   "outputs": [
    {
     "data": {
      "text/plain": [
       "<AxesSubplot:xlabel='ram'>"
      ]
     },
     "execution_count": 174,
     "metadata": {},
     "output_type": "execute_result"
    },
    {
     "data": {
      "image/png": "[encoded data removed]",
      "text/plain": [
       "<Figure size 432x288 with 1 Axes>"
      ]
     },
     "metadata": {
      "needs_background": "light"
     },
     "output_type": "display_data"
    }
   ],
   "source": [
    "sns.boxplot(df_lappy.ram)"
   ]
  },
  {
   "cell_type": "code",
   "execution_count": 175,
   "metadata": {},
   "outputs": [
    {
     "data": {
      "text/plain": [
       "<AxesSubplot:xlabel='org_price'>"
      ]
     },
     "execution_count": 175,
     "metadata": {},
     "output_type": "execute_result"
    },
    {
     "data": {
      "image/png": "[encoded data removed]",
      "text/plain": [
       "<Figure size 432x288 with 1 Axes>"
      ]
     },
     "metadata": {
      "needs_background": "light"
     },
     "output_type": "display_data"
    }
   ],
   "source": [
    "sns.boxplot(df_lappy.org_price)"
   ]
  },
  {
   "cell_type": "markdown",
   "metadata": {},
   "source": [
    "# Transformation"
   ]
  },
  {
   "cell_type": "code",
   "execution_count": 176,
   "metadata": {
    "scrolled": true
   },
   "outputs": [
    {
     "data": {
      "text/plain": [
       "<AxesSubplot:>"
      ]
     },
     "execution_count": 176,
     "metadata": {},
     "output_type": "execute_result"
    },
    {
     "data": {
      "image/png": "[encoded data removed]",
      "text/plain": [
       "<Figure size 432x288 with 1 Axes>"
      ]
     },
     "metadata": {
      "needs_background": "light"
     },
     "output_type": "display_data"
    }
   ],
   "source": [
    "df_lappy.org_price.hist()"
   ]
  },
  {
   "cell_type": "code",
   "execution_count": 177,
   "metadata": {},
   "outputs": [
    {
     "data": {
      "text/plain": [
       "310000"
      ]
     },
     "execution_count": 177,
     "metadata": {},
     "output_type": "execute_result"
    }
   ],
   "source": [
    "350000-40000"
   ]
  },
  {
   "cell_type": "code",
   "execution_count": 178,
   "metadata": {},
   "outputs": [
    {
     "data": {
      "text/plain": [
       "10.819778284410283"
      ]
     },
     "execution_count": 178,
     "metadata": {},
     "output_type": "execute_result"
    }
   ],
   "source": [
    "np.log(50000)"
   ]
  },
  {
   "cell_type": "code",
   "execution_count": 179,
   "metadata": {},
   "outputs": [
    {
     "data": {
      "text/plain": [
       "22825.0"
      ]
     },
     "execution_count": 179,
     "metadata": {},
     "output_type": "execute_result"
    }
   ],
   "source": [
    "min(df_lappy.org_price)"
   ]
  },
  {
   "cell_type": "code",
   "execution_count": 180,
   "metadata": {},
   "outputs": [
    {
     "data": {
      "text/plain": [
       "377798.0"
      ]
     },
     "execution_count": 180,
     "metadata": {},
     "output_type": "execute_result"
    }
   ],
   "source": [
    "max(df_lappy.org_price)"
   ]
  },
  {
   "cell_type": "code",
   "execution_count": 181,
   "metadata": {},
   "outputs": [
    {
     "data": {
      "text/plain": [
       "12.765688433465597"
      ]
     },
     "execution_count": 181,
     "metadata": {},
     "output_type": "execute_result"
    }
   ],
   "source": [
    "np.log(350000)"
   ]
  },
  {
   "cell_type": "code",
   "execution_count": 182,
   "metadata": {},
   "outputs": [
    {
     "data": {
      "text/plain": [
       "12.429216196844383"
      ]
     },
     "execution_count": 182,
     "metadata": {},
     "output_type": "execute_result"
    }
   ],
   "source": [
    "np.log(250000)"
   ]
  },
  {
   "cell_type": "code",
   "execution_count": 183,
   "metadata": {
    "scrolled": false
   },
   "outputs": [
    {
     "data": {
      "text/plain": [
       "<AxesSubplot:>"
      ]
     },
     "execution_count": 183,
     "metadata": {},
     "output_type": "execute_result"
    },
    {
     "data": {
      "image/png": "[encoded data removed]",
      "text/plain": [
       "<Figure size 432x288 with 1 Axes>"
      ]
     },
     "metadata": {
      "needs_background": "light"
     },
     "output_type": "display_data"
    }
   ],
   "source": [
    "np.log(df_lappy.org_price).hist()"
   ]
  },
  {
   "cell_type": "code",
   "execution_count": 184,
   "metadata": {},
   "outputs": [],
   "source": [
    "# org_price is right skewed"
   ]
  },
  {
   "cell_type": "code",
   "execution_count": 185,
   "metadata": {},
   "outputs": [
    {
     "data": {
      "text/plain": [
       "<AxesSubplot:>"
      ]
     },
     "execution_count": 185,
     "metadata": {},
     "output_type": "execute_result"
    },
    {
     "data": {
      "image/png": "[encoded data removed]",
      "text/plain": [
       "<Figure size 432x288 with 1 Axes>"
      ]
     },
     "metadata": {
      "needs_background": "light"
     },
     "output_type": "display_data"
    }
   ],
   "source": [
    "df_lappy.ram.hist()"
   ]
  },
  {
   "cell_type": "markdown",
   "metadata": {},
   "source": [
    "1) Log Transformation\n",
    "2) Exponential Transf\n",
    "    a) sq tranhs\n",
    "    b) cub trans\n",
    "    c) sqrt transf"
   ]
  },
  {
   "cell_type": "code",
   "execution_count": 186,
   "metadata": {
    "scrolled": true
   },
   "outputs": [
    {
     "data": {
      "text/plain": [
       "ram          2.684132\n",
       "display     -0.577863\n",
       "org_price    2.901847\n",
       "dtype: float64"
      ]
     },
     "execution_count": 186,
     "metadata": {},
     "output_type": "execute_result"
    }
   ],
   "source": [
    "# -1 to 1\n",
    "df_lappy.skew()"
   ]
  },
  {
   "cell_type": "code",
   "execution_count": 187,
   "metadata": {},
   "outputs": [],
   "source": [
    "df_lappy.org_price = np.log(df_lappy.org_price)\n",
    "df_lappy.ram = np.log(df_lappy.ram)"
   ]
  },
  {
   "cell_type": "code",
   "execution_count": 188,
   "metadata": {},
   "outputs": [
    {
     "data": {
      "text/html": [
       "<div>\n",
       "<style scoped>\n",
       "    .dataframe tbody tr th:only-of-type {\n",
       "        vertical-align: middle;\n",
       "    }\n",
       "\n",
       "    .dataframe tbody tr th {\n",
       "        vertical-align: top;\n",
       "    }\n",
       "\n",
       "    .dataframe thead th {\n",
       "        text-align: right;\n",
       "    }\n",
       "</style>\n",
       "<table border=\"1\" class=\"dataframe\">\n",
       "  <thead>\n",
       "    <tr style=\"text-align: right;\">\n",
       "      <th></th>\n",
       "      <th>ram</th>\n",
       "      <th>display</th>\n",
       "      <th>org_price</th>\n",
       "    </tr>\n",
       "  </thead>\n",
       "  <tbody>\n",
       "    <tr>\n",
       "      <th>0</th>\n",
       "      <td>2.079442</td>\n",
       "      <td>39.62</td>\n",
       "      <td>11.100285</td>\n",
       "    </tr>\n",
       "    <tr>\n",
       "      <th>1</th>\n",
       "      <td>1.386294</td>\n",
       "      <td>39.62</td>\n",
       "      <td>10.657024</td>\n",
       "    </tr>\n",
       "    <tr>\n",
       "      <th>2</th>\n",
       "      <td>2.079442</td>\n",
       "      <td>39.62</td>\n",
       "      <td>11.289769</td>\n",
       "    </tr>\n",
       "    <tr>\n",
       "      <th>3</th>\n",
       "      <td>2.079442</td>\n",
       "      <td>33.78</td>\n",
       "      <td>11.349229</td>\n",
       "    </tr>\n",
       "    <tr>\n",
       "      <th>4</th>\n",
       "      <td>2.079442</td>\n",
       "      <td>39.62</td>\n",
       "      <td>11.285899</td>\n",
       "    </tr>\n",
       "  </tbody>\n",
       "</table>\n",
       "</div>"
      ],
      "text/plain": [
       "        ram  display  org_price\n",
       "0  2.079442    39.62  11.100285\n",
       "1  1.386294    39.62  10.657024\n",
       "2  2.079442    39.62  11.289769\n",
       "3  2.079442    33.78  11.349229\n",
       "4  2.079442    39.62  11.285899"
      ]
     },
     "execution_count": 188,
     "metadata": {},
     "output_type": "execute_result"
    }
   ],
   "source": [
    "df_lappy.head()"
   ]
  },
  {
   "cell_type": "code",
   "execution_count": 189,
   "metadata": {},
   "outputs": [
    {
     "data": {
      "text/plain": [
       "10.03561170546317"
      ]
     },
     "execution_count": 189,
     "metadata": {},
     "output_type": "execute_result"
    }
   ],
   "source": [
    "min(df_lappy.org_price)"
   ]
  },
  {
   "cell_type": "code",
   "execution_count": 190,
   "metadata": {},
   "outputs": [
    {
     "data": {
      "text/plain": [
       "12.842114940229287"
      ]
     },
     "execution_count": 190,
     "metadata": {},
     "output_type": "execute_result"
    }
   ],
   "source": [
    "max(df_lappy.org_price)"
   ]
  },
  {
   "cell_type": "code",
   "execution_count": 191,
   "metadata": {},
   "outputs": [],
   "source": [
    "# columns: features and variables\n",
    "# Target Variable: Dependent Variable\n",
    "# Independent Variables"
   ]
  },
  {
   "cell_type": "code",
   "execution_count": 192,
   "metadata": {},
   "outputs": [],
   "source": [
    "import statsmodels.api as sm\n",
    "\n",
    "from sklearn.model_selection import train_test_split"
   ]
  },
  {
   "cell_type": "markdown",
   "metadata": {},
   "source": [
    "OLS: Ordinary Least Squares"
   ]
  },
  {
   "cell_type": "markdown",
   "metadata": {},
   "source": [
    "y = m1x1 + m2x2 + c"
   ]
  },
  {
   "cell_type": "code",
   "execution_count": 193,
   "metadata": {},
   "outputs": [
    {
     "data": {
      "text/plain": [
       "(313, 3)"
      ]
     },
     "execution_count": 193,
     "metadata": {},
     "output_type": "execute_result"
    }
   ],
   "source": [
    "df_lappy.shape"
   ]
  },
  {
   "cell_type": "code",
   "execution_count": 194,
   "metadata": {},
   "outputs": [
    {
     "data": {
      "text/plain": [
       "250.4"
      ]
     },
     "execution_count": 194,
     "metadata": {},
     "output_type": "execute_result"
    }
   ],
   "source": [
    "(313*80)/100"
   ]
  },
  {
   "cell_type": "code",
   "execution_count": 195,
   "metadata": {
    "scrolled": true
   },
   "outputs": [
    {
     "name": "stdout",
     "output_type": "stream",
     "text": [
      "(250, 3)\n",
      "(250,)\n",
      "(63, 3)\n",
      "(63,)\n"
     ]
    }
   ],
   "source": [
    "X = sm.add_constant(df_lappy)\n",
    "X.drop('org_price', axis = 1, inplace = True)\n",
    "\n",
    "Y = df_lappy['org_price']\n",
    "\n",
    "train_x, test_x, train_y, test_y = train_test_split(X, Y, test_size = 0.2, random_state = 10)\n",
    "\n",
    "print(train_x.shape)\n",
    "print(train_y.shape)\n",
    "print(test_x.shape)\n",
    "print(test_y.shape)"
   ]
  },
  {
   "cell_type": "code",
   "execution_count": 196,
   "metadata": {},
   "outputs": [
    {
     "data": {
      "text/plain": [
       "533    10.657024\n",
       "353    11.285899\n",
       "114    10.652897\n",
       "313    11.100285\n",
       "38     11.719858\n",
       "         ...    \n",
       "223    10.657024\n",
       "159    11.285899\n",
       "17     11.303315\n",
       "163    11.213036\n",
       "458    11.141847\n",
       "Name: org_price, Length: 250, dtype: float64"
      ]
     },
     "execution_count": 196,
     "metadata": {},
     "output_type": "execute_result"
    }
   ],
   "source": [
    "train_y"
   ]
  },
  {
   "cell_type": "code",
   "execution_count": 197,
   "metadata": {},
   "outputs": [
    {
     "data": {
      "text/html": [
       "<div>\n",
       "<style scoped>\n",
       "    .dataframe tbody tr th:only-of-type {\n",
       "        vertical-align: middle;\n",
       "    }\n",
       "\n",
       "    .dataframe tbody tr th {\n",
       "        vertical-align: top;\n",
       "    }\n",
       "\n",
       "    .dataframe thead th {\n",
       "        text-align: right;\n",
       "    }\n",
       "</style>\n",
       "<table border=\"1\" class=\"dataframe\">\n",
       "  <thead>\n",
       "    <tr style=\"text-align: right;\">\n",
       "      <th></th>\n",
       "      <th>const</th>\n",
       "      <th>ram</th>\n",
       "      <th>display</th>\n",
       "    </tr>\n",
       "  </thead>\n",
       "  <tbody>\n",
       "    <tr>\n",
       "      <th>174</th>\n",
       "      <td>1.0</td>\n",
       "      <td>2.079442</td>\n",
       "      <td>39.62</td>\n",
       "    </tr>\n",
       "    <tr>\n",
       "      <th>552</th>\n",
       "      <td>1.0</td>\n",
       "      <td>2.079442</td>\n",
       "      <td>33.78</td>\n",
       "    </tr>\n",
       "    <tr>\n",
       "      <th>306</th>\n",
       "      <td>1.0</td>\n",
       "      <td>2.079442</td>\n",
       "      <td>33.78</td>\n",
       "    </tr>\n",
       "    <tr>\n",
       "      <th>391</th>\n",
       "      <td>1.0</td>\n",
       "      <td>2.079442</td>\n",
       "      <td>39.62</td>\n",
       "    </tr>\n",
       "    <tr>\n",
       "      <th>420</th>\n",
       "      <td>1.0</td>\n",
       "      <td>2.772589</td>\n",
       "      <td>33.78</td>\n",
       "    </tr>\n",
       "  </tbody>\n",
       "</table>\n",
       "</div>"
      ],
      "text/plain": [
       "     const       ram  display\n",
       "174    1.0  2.079442    39.62\n",
       "552    1.0  2.079442    33.78\n",
       "306    1.0  2.079442    33.78\n",
       "391    1.0  2.079442    39.62\n",
       "420    1.0  2.772589    33.78"
      ]
     },
     "execution_count": 197,
     "metadata": {},
     "output_type": "execute_result"
    }
   ],
   "source": [
    "test_x.head()"
   ]
  },
  {
   "cell_type": "code",
   "execution_count": 198,
   "metadata": {},
   "outputs": [
    {
     "name": "stdout",
     "output_type": "stream",
     "text": [
      "                            OLS Regression Results                            \n",
      "==============================================================================\n",
      "Dep. Variable:              org_price   R-squared:                       0.657\n",
      "Model:                            OLS   Adj. R-squared:                  0.655\n",
      "Method:                 Least Squares   F-statistic:                     236.9\n",
      "Date:                Thu, 22 Oct 2020   Prob (F-statistic):           3.56e-58\n",
      "Time:                        21:14:27   Log-Likelihood:                 9.8950\n",
      "No. Observations:                 250   AIC:                            -13.79\n",
      "Df Residuals:                     247   BIC:                            -3.226\n",
      "Df Model:                           2                                         \n",
      "Covariance Type:            nonrobust                                         \n",
      "==============================================================================\n",
      "                 coef    std err          t      P>|t|      [0.025      0.975]\n",
      "------------------------------------------------------------------------------\n",
      "const         10.2806      0.230     44.616      0.000       9.827      10.734\n",
      "ram            0.8147      0.038     21.669      0.000       0.741       0.889\n",
      "display       -0.0189      0.006     -3.243      0.001      -0.030      -0.007\n",
      "==============================================================================\n",
      "Omnibus:                        6.928   Durbin-Watson:                   2.004\n",
      "Prob(Omnibus):                  0.031   Jarque-Bera (JB):                7.646\n",
      "Skew:                           0.275   Prob(JB):                       0.0219\n",
      "Kurtosis:                       3.656   Cond. No.                         595.\n",
      "==============================================================================\n",
      "\n",
      "Warnings:\n",
      "[1] Standard Errors assume that the covariance matrix of the errors is correctly specified.\n"
     ]
    }
   ],
   "source": [
    "ols_model_1 = sm.OLS(train_y, train_x).fit()\n",
    "print(ols_model_1.summary())"
   ]
  },
  {
   "cell_type": "markdown",
   "metadata": {},
   "source": [
    "org_price = 0.8373(ram) - 0.0197(display) + 10.2599"
   ]
  },
  {
   "cell_type": "markdown",
   "metadata": {},
   "source": [
    "if pvalue < 0.05:   column is significant\n",
    "\n",
    "else: column is useless"
   ]
  },
  {
   "cell_type": "markdown",
   "metadata": {},
   "source": [
    "T-Test (t) is used to check if my column is significant or not\n",
    "F-Stat is used to chck if my whole (complete) is significant or not"
   ]
  },
  {
   "cell_type": "markdown",
   "metadata": {},
   "source": [
    "employees:\n",
    "predict: salary\n",
    "    \n",
    "exp    skills   Flavour_of_icecream    Salary"
   ]
  },
  {
   "cell_type": "markdown",
   "metadata": {},
   "source": [
    "R2 and Adj. R2\n",
    "\n",
    "1) more the columns more the R2\n",
    "\n",
    "2) ADJ R2 <<<<< R2"
   ]
  },
  {
   "cell_type": "markdown",
   "metadata": {},
   "source": [
    "less AIC means better the model\n",
    "2 or more than 2 models"
   ]
  },
  {
   "cell_type": "markdown",
   "metadata": {},
   "source": [
    "MSE: Mean Squared Error\n",
    "RMSE: Root Mean Squared Error\n",
    "MAE: Mean Absolute Error"
   ]
  },
  {
   "cell_type": "code",
   "execution_count": 199,
   "metadata": {},
   "outputs": [],
   "source": [
    "from sklearn.metrics import mean_squared_error"
   ]
  },
  {
   "cell_type": "code",
   "execution_count": 200,
   "metadata": {},
   "outputs": [],
   "source": [
    "pred_y = ols_model_1.predict(test_x)"
   ]
  },
  {
   "cell_type": "code",
   "execution_count": 201,
   "metadata": {},
   "outputs": [
    {
     "data": {
      "text/plain": [
       "0.05531963895505988"
      ]
     },
     "execution_count": 201,
     "metadata": {},
     "output_type": "execute_result"
    }
   ],
   "source": [
    "mean_squared_error(test_y, pred_y)"
   ]
  },
  {
   "cell_type": "code",
   "execution_count": 202,
   "metadata": {
    "scrolled": true
   },
   "outputs": [
    {
     "data": {
      "text/plain": [
       "0.23520127328537124"
      ]
     },
     "execution_count": 202,
     "metadata": {},
     "output_type": "execute_result"
    }
   ],
   "source": [
    "np.sqrt(mean_squared_error(test_y, pred_y))"
   ]
  },
  {
   "cell_type": "markdown",
   "metadata": {},
   "source": [
    "# Approach 2"
   ]
  },
  {
   "cell_type": "markdown",
   "metadata": {},
   "source": [
    "# RAM, Display and Storage"
   ]
  },
  {
   "cell_type": "code",
   "execution_count": 203,
   "metadata": {},
   "outputs": [
    {
     "data": {
      "text/html": [
       "<div>\n",
       "<style scoped>\n",
       "    .dataframe tbody tr th:only-of-type {\n",
       "        vertical-align: middle;\n",
       "    }\n",
       "\n",
       "    .dataframe tbody tr th {\n",
       "        vertical-align: top;\n",
       "    }\n",
       "\n",
       "    .dataframe thead th {\n",
       "        text-align: right;\n",
       "    }\n",
       "</style>\n",
       "<table border=\"1\" class=\"dataframe\">\n",
       "  <thead>\n",
       "    <tr style=\"text-align: right;\">\n",
       "      <th></th>\n",
       "      <th>name</th>\n",
       "      <th>ratings</th>\n",
       "      <th>num_ratings</th>\n",
       "      <th>processor</th>\n",
       "      <th>ram</th>\n",
       "      <th>os</th>\n",
       "      <th>storage</th>\n",
       "      <th>display</th>\n",
       "      <th>price</th>\n",
       "      <th>org_price</th>\n",
       "      <th>Brand</th>\n",
       "      <th>num_reviews</th>\n",
       "      <th>ram_type</th>\n",
       "      <th>Discount</th>\n",
       "    </tr>\n",
       "  </thead>\n",
       "  <tbody>\n",
       "    <tr>\n",
       "      <th>0</th>\n",
       "      <td>Lenovo Ideapad S145 Core i5 10th Gen - (8 GB/1...</td>\n",
       "      <td>4.0</td>\n",
       "      <td>431.0</td>\n",
       "      <td>Intel Core i5 Processor (10th Gen)</td>\n",
       "      <td>8</td>\n",
       "      <td>64 bit Windows 10 Operating System</td>\n",
       "      <td>1 TB HDD</td>\n",
       "      <td>39.62</td>\n",
       "      <td>42990</td>\n",
       "      <td>66190.0</td>\n",
       "      <td>Lenovo</td>\n",
       "      <td>62.0</td>\n",
       "      <td>DDR4</td>\n",
       "      <td>35.050612</td>\n",
       "    </tr>\n",
       "    <tr>\n",
       "      <th>1</th>\n",
       "      <td>Lenovo Ideapad S145 Core i3 10th Gen - (4 GB/1...</td>\n",
       "      <td>4.3</td>\n",
       "      <td>20.0</td>\n",
       "      <td>Intel Core i3 Processor (10th Gen)</td>\n",
       "      <td>4</td>\n",
       "      <td>64 bit Windows 10 Operating System</td>\n",
       "      <td>1 TB HDD</td>\n",
       "      <td>39.62</td>\n",
       "      <td>31990</td>\n",
       "      <td>42490.0</td>\n",
       "      <td>Lenovo</td>\n",
       "      <td>4.0</td>\n",
       "      <td>DDR4</td>\n",
       "      <td>24.711697</td>\n",
       "    </tr>\n",
       "    <tr>\n",
       "      <th>2</th>\n",
       "      <td>Acer Aspire 7 Core i5 9th Gen - (8 GB/512 GB S...</td>\n",
       "      <td>4.5</td>\n",
       "      <td>5317.0</td>\n",
       "      <td>Intel Core i5 Processor (9th Gen)</td>\n",
       "      <td>8</td>\n",
       "      <td>64 bit Windows 10 Operating System</td>\n",
       "      <td>512 GB SSD</td>\n",
       "      <td>39.62</td>\n",
       "      <td>49990</td>\n",
       "      <td>79999.0</td>\n",
       "      <td>Acer</td>\n",
       "      <td>979.0</td>\n",
       "      <td>DDR4</td>\n",
       "      <td>37.511719</td>\n",
       "    </tr>\n",
       "    <tr>\n",
       "      <th>3</th>\n",
       "      <td>Apple MacBook Air Core i5 5th Gen - (8 GB/128 ...</td>\n",
       "      <td>4.7</td>\n",
       "      <td>25629.0</td>\n",
       "      <td>Intel Core i5 Processor (5th Gen)</td>\n",
       "      <td>8</td>\n",
       "      <td>64 bit Mac OS Operating System</td>\n",
       "      <td>128 GB SSD</td>\n",
       "      <td>33.78</td>\n",
       "      <td>59990</td>\n",
       "      <td>84900.0</td>\n",
       "      <td>Apple</td>\n",
       "      <td>2870.0</td>\n",
       "      <td>DDR3</td>\n",
       "      <td>29.340400</td>\n",
       "    </tr>\n",
       "    <tr>\n",
       "      <th>4</th>\n",
       "      <td>Lenovo Ideapad L340 Core i5 9th Gen - (8 GB/1 ...</td>\n",
       "      <td>4.8</td>\n",
       "      <td>55.0</td>\n",
       "      <td>Intel Core i5 Processor (9th Gen)</td>\n",
       "      <td>8</td>\n",
       "      <td>64 bit Windows 10 Operating System</td>\n",
       "      <td>1 TB HDD|256 GB SSD</td>\n",
       "      <td>39.62</td>\n",
       "      <td>55990</td>\n",
       "      <td>79690.0</td>\n",
       "      <td>Lenovo</td>\n",
       "      <td>6.0</td>\n",
       "      <td>DDR4</td>\n",
       "      <td>29.740243</td>\n",
       "    </tr>\n",
       "  </tbody>\n",
       "</table>\n",
       "</div>"
      ],
      "text/plain": [
       "                                                name  ratings  num_ratings  \\\n",
       "0  Lenovo Ideapad S145 Core i5 10th Gen - (8 GB/1...      4.0        431.0   \n",
       "1  Lenovo Ideapad S145 Core i3 10th Gen - (4 GB/1...      4.3         20.0   \n",
       "2  Acer Aspire 7 Core i5 9th Gen - (8 GB/512 GB S...      4.5       5317.0   \n",
       "3  Apple MacBook Air Core i5 5th Gen - (8 GB/128 ...      4.7      25629.0   \n",
       "4  Lenovo Ideapad L340 Core i5 9th Gen - (8 GB/1 ...      4.8         55.0   \n",
       "\n",
       "                            processor  ram  \\\n",
       "0  Intel Core i5 Processor (10th Gen)    8   \n",
       "1  Intel Core i3 Processor (10th Gen)    4   \n",
       "2   Intel Core i5 Processor (9th Gen)    8   \n",
       "3   Intel Core i5 Processor (5th Gen)    8   \n",
       "4   Intel Core i5 Processor (9th Gen)    8   \n",
       "\n",
       "                                   os              storage  display  price  \\\n",
       "0  64 bit Windows 10 Operating System             1 TB HDD    39.62  42990   \n",
       "1  64 bit Windows 10 Operating System             1 TB HDD    39.62  31990   \n",
       "2  64 bit Windows 10 Operating System           512 GB SSD    39.62  49990   \n",
       "3      64 bit Mac OS Operating System           128 GB SSD    33.78  59990   \n",
       "4  64 bit Windows 10 Operating System  1 TB HDD|256 GB SSD    39.62  55990   \n",
       "\n",
       "   org_price   Brand  num_reviews ram_type   Discount  \n",
       "0    66190.0  Lenovo         62.0     DDR4  35.050612  \n",
       "1    42490.0  Lenovo          4.0     DDR4  24.711697  \n",
       "2    79999.0    Acer        979.0     DDR4  37.511719  \n",
       "3    84900.0   Apple       2870.0     DDR3  29.340400  \n",
       "4    79690.0  Lenovo          6.0     DDR4  29.740243  "
      ]
     },
     "execution_count": 203,
     "metadata": {},
     "output_type": "execute_result"
    }
   ],
   "source": [
    "# Read the csv\n",
    "df_lappy = pd.read_csv('lappy_eda.csv')\n",
    "df_lappy.head()"
   ]
  },
  {
   "cell_type": "code",
   "execution_count": 204,
   "metadata": {},
   "outputs": [
    {
     "name": "stderr",
     "output_type": "stream",
     "text": [
      "C:\\Users\\kolhe\\anaconda3\\lib\\site-packages\\ipykernel_launcher.py:3: SettingWithCopyWarning: \n",
      "A value is trying to be set on a copy of a slice from a DataFrame\n",
      "\n",
      "See the caveats in the documentation: https://pandas.pydata.org/pandas-docs/stable/user_guide/indexing.html#returning-a-view-versus-a-copy\n",
      "  This is separate from the ipykernel package so we can avoid doing imports until\n"
     ]
    }
   ],
   "source": [
    "for i in range(df_lappy.shape[0]):\n",
    "    if(pd.isnull(df_lappy['org_price'][i])):\n",
    "        df_lappy['org_price'][i] = df_lappy['price'][i]"
   ]
  },
  {
   "cell_type": "code",
   "execution_count": 205,
   "metadata": {},
   "outputs": [],
   "source": [
    "df_lappy.drop(['name','processor', 'os', 'Brand', 'ram_type', 'ratings', 'num_ratings', 'num_reviews', 'price', 'Discount'], axis = 1, inplace = True)"
   ]
  },
  {
   "cell_type": "code",
   "execution_count": 206,
   "metadata": {},
   "outputs": [
    {
     "data": {
      "text/html": [
       "<div>\n",
       "<style scoped>\n",
       "    .dataframe tbody tr th:only-of-type {\n",
       "        vertical-align: middle;\n",
       "    }\n",
       "\n",
       "    .dataframe tbody tr th {\n",
       "        vertical-align: top;\n",
       "    }\n",
       "\n",
       "    .dataframe thead th {\n",
       "        text-align: right;\n",
       "    }\n",
       "</style>\n",
       "<table border=\"1\" class=\"dataframe\">\n",
       "  <thead>\n",
       "    <tr style=\"text-align: right;\">\n",
       "      <th></th>\n",
       "      <th>ram</th>\n",
       "      <th>storage</th>\n",
       "      <th>display</th>\n",
       "      <th>org_price</th>\n",
       "    </tr>\n",
       "  </thead>\n",
       "  <tbody>\n",
       "    <tr>\n",
       "      <th>0</th>\n",
       "      <td>8</td>\n",
       "      <td>1 TB HDD</td>\n",
       "      <td>39.62</td>\n",
       "      <td>66190.0</td>\n",
       "    </tr>\n",
       "    <tr>\n",
       "      <th>1</th>\n",
       "      <td>4</td>\n",
       "      <td>1 TB HDD</td>\n",
       "      <td>39.62</td>\n",
       "      <td>42490.0</td>\n",
       "    </tr>\n",
       "  </tbody>\n",
       "</table>\n",
       "</div>"
      ],
      "text/plain": [
       "   ram   storage  display  org_price\n",
       "0    8  1 TB HDD    39.62    66190.0\n",
       "1    4  1 TB HDD    39.62    42490.0"
      ]
     },
     "execution_count": 206,
     "metadata": {},
     "output_type": "execute_result"
    }
   ],
   "source": [
    "df_lappy.head(2)"
   ]
  },
  {
   "cell_type": "code",
   "execution_count": 207,
   "metadata": {},
   "outputs": [
    {
     "data": {
      "text/plain": [
       "ram           0\n",
       "storage      36\n",
       "display       9\n",
       "org_price     0\n",
       "dtype: int64"
      ]
     },
     "execution_count": 207,
     "metadata": {},
     "output_type": "execute_result"
    }
   ],
   "source": [
    "df_lappy.isnull().sum()"
   ]
  },
  {
   "cell_type": "code",
   "execution_count": 208,
   "metadata": {
    "scrolled": true
   },
   "outputs": [
    {
     "data": {
      "text/plain": [
       "1 TB HDD               171\n",
       "512 GB SSD             138\n",
       "1 TB HDD|256 GB SSD     85\n",
       "256 GB SSD              62\n",
       "1 TB SSD                39\n",
       "1 TB HDD|128 GB SSD     13\n",
       "128 GB SSD              10\n",
       "1 TB HDD|512 GB SSD      6\n",
       "500 GB HDD               5\n",
       "1 TB HDD|8 GB SSD        2\n",
       "2 TB SSD                 2\n",
       "2 TB HDD|256 GB SSD      2\n",
       "2 TB HDD                 2\n",
       "500 GB SSD               1\n",
       "1 TB HDD|1 TB SSD        1\n",
       "32 GB HDD                1\n",
       "Name: storage, dtype: int64"
      ]
     },
     "execution_count": 208,
     "metadata": {},
     "output_type": "execute_result"
    }
   ],
   "source": [
    "df_lappy.storage.value_counts()"
   ]
  },
  {
   "cell_type": "code",
   "execution_count": 209,
   "metadata": {},
   "outputs": [
    {
     "data": {
      "text/plain": [
       "'SSD'"
      ]
     },
     "execution_count": 209,
     "metadata": {},
     "output_type": "execute_result"
    }
   ],
   "source": [
    "df_lappy.storage[3].split()[2]"
   ]
  },
  {
   "cell_type": "code",
   "execution_count": 210,
   "metadata": {},
   "outputs": [
    {
     "name": "stderr",
     "output_type": "stream",
     "text": [
      "C:\\Users\\kolhe\\anaconda3\\lib\\site-packages\\ipykernel_launcher.py:6: SettingWithCopyWarning: \n",
      "A value is trying to be set on a copy of a slice from a DataFrame\n",
      "\n",
      "See the caveats in the documentation: https://pandas.pydata.org/pandas-docs/stable/user_guide/indexing.html#returning-a-view-versus-a-copy\n",
      "  \n",
      "C:\\Users\\kolhe\\anaconda3\\lib\\site-packages\\ipykernel_launcher.py:4: SettingWithCopyWarning: \n",
      "A value is trying to be set on a copy of a slice from a DataFrame\n",
      "\n",
      "See the caveats in the documentation: https://pandas.pydata.org/pandas-docs/stable/user_guide/indexing.html#returning-a-view-versus-a-copy\n",
      "  after removing the cwd from sys.path.\n"
     ]
    }
   ],
   "source": [
    "for i in range(df_lappy.shape[0]):\n",
    "    if(pd.notnull(df_lappy['storage'][i])):\n",
    "        if('|' in df_lappy['storage'][i]):\n",
    "            df_lappy['storage'][i] = 'Both'\n",
    "        else:\n",
    "            df_lappy['storage'][i] = df_lappy['storage'][i].split()[2]"
   ]
  },
  {
   "cell_type": "code",
   "execution_count": 211,
   "metadata": {},
   "outputs": [
    {
     "data": {
      "text/html": [
       "<div>\n",
       "<style scoped>\n",
       "    .dataframe tbody tr th:only-of-type {\n",
       "        vertical-align: middle;\n",
       "    }\n",
       "\n",
       "    .dataframe tbody tr th {\n",
       "        vertical-align: top;\n",
       "    }\n",
       "\n",
       "    .dataframe thead th {\n",
       "        text-align: right;\n",
       "    }\n",
       "</style>\n",
       "<table border=\"1\" class=\"dataframe\">\n",
       "  <thead>\n",
       "    <tr style=\"text-align: right;\">\n",
       "      <th></th>\n",
       "      <th>ram</th>\n",
       "      <th>storage</th>\n",
       "      <th>display</th>\n",
       "      <th>org_price</th>\n",
       "    </tr>\n",
       "  </thead>\n",
       "  <tbody>\n",
       "    <tr>\n",
       "      <th>0</th>\n",
       "      <td>8</td>\n",
       "      <td>HDD</td>\n",
       "      <td>39.62</td>\n",
       "      <td>66190.0</td>\n",
       "    </tr>\n",
       "    <tr>\n",
       "      <th>1</th>\n",
       "      <td>4</td>\n",
       "      <td>HDD</td>\n",
       "      <td>39.62</td>\n",
       "      <td>42490.0</td>\n",
       "    </tr>\n",
       "    <tr>\n",
       "      <th>2</th>\n",
       "      <td>8</td>\n",
       "      <td>SSD</td>\n",
       "      <td>39.62</td>\n",
       "      <td>79999.0</td>\n",
       "    </tr>\n",
       "    <tr>\n",
       "      <th>3</th>\n",
       "      <td>8</td>\n",
       "      <td>SSD</td>\n",
       "      <td>33.78</td>\n",
       "      <td>84900.0</td>\n",
       "    </tr>\n",
       "    <tr>\n",
       "      <th>4</th>\n",
       "      <td>8</td>\n",
       "      <td>Both</td>\n",
       "      <td>39.62</td>\n",
       "      <td>79690.0</td>\n",
       "    </tr>\n",
       "  </tbody>\n",
       "</table>\n",
       "</div>"
      ],
      "text/plain": [
       "   ram storage  display  org_price\n",
       "0    8     HDD    39.62    66190.0\n",
       "1    4     HDD    39.62    42490.0\n",
       "2    8     SSD    39.62    79999.0\n",
       "3    8     SSD    33.78    84900.0\n",
       "4    8    Both    39.62    79690.0"
      ]
     },
     "execution_count": 211,
     "metadata": {},
     "output_type": "execute_result"
    }
   ],
   "source": [
    "df_lappy.head()"
   ]
  },
  {
   "cell_type": "code",
   "execution_count": 212,
   "metadata": {},
   "outputs": [
    {
     "data": {
      "text/plain": [
       "SSD     252\n",
       "HDD     179\n",
       "Both    109\n",
       "Name: storage, dtype: int64"
      ]
     },
     "execution_count": 212,
     "metadata": {},
     "output_type": "execute_result"
    }
   ],
   "source": [
    "df_lappy.storage.value_counts()"
   ]
  },
  {
   "cell_type": "code",
   "execution_count": 213,
   "metadata": {},
   "outputs": [
    {
     "data": {
      "text/plain": [
       "'SSD'"
      ]
     },
     "execution_count": 213,
     "metadata": {},
     "output_type": "execute_result"
    }
   ],
   "source": [
    "df_lappy.storage.mode()[0]"
   ]
  },
  {
   "cell_type": "code",
   "execution_count": 214,
   "metadata": {},
   "outputs": [],
   "source": [
    "df_lappy.storage = df_lappy.storage.replace(np.nan, df_lappy.storage.mode()[0])"
   ]
  },
  {
   "cell_type": "code",
   "execution_count": 215,
   "metadata": {},
   "outputs": [],
   "source": [
    "df_lappy.display = df_lappy.display.replace(np.nan, df_lappy.display.median())"
   ]
  },
  {
   "cell_type": "code",
   "execution_count": 216,
   "metadata": {},
   "outputs": [
    {
     "data": {
      "text/plain": [
       "ram          0\n",
       "storage      0\n",
       "display      0\n",
       "org_price    0\n",
       "dtype: int64"
      ]
     },
     "execution_count": 216,
     "metadata": {},
     "output_type": "execute_result"
    }
   ],
   "source": [
    "df_lappy.isnull().sum()"
   ]
  },
  {
   "cell_type": "code",
   "execution_count": 217,
   "metadata": {},
   "outputs": [
    {
     "data": {
      "text/html": [
       "<div>\n",
       "<style scoped>\n",
       "    .dataframe tbody tr th:only-of-type {\n",
       "        vertical-align: middle;\n",
       "    }\n",
       "\n",
       "    .dataframe tbody tr th {\n",
       "        vertical-align: top;\n",
       "    }\n",
       "\n",
       "    .dataframe thead th {\n",
       "        text-align: right;\n",
       "    }\n",
       "</style>\n",
       "<table border=\"1\" class=\"dataframe\">\n",
       "  <thead>\n",
       "    <tr style=\"text-align: right;\">\n",
       "      <th></th>\n",
       "      <th>ram</th>\n",
       "      <th>storage</th>\n",
       "      <th>display</th>\n",
       "      <th>org_price</th>\n",
       "    </tr>\n",
       "  </thead>\n",
       "  <tbody>\n",
       "    <tr>\n",
       "      <th>0</th>\n",
       "      <td>8</td>\n",
       "      <td>HDD</td>\n",
       "      <td>39.62</td>\n",
       "      <td>66190.0</td>\n",
       "    </tr>\n",
       "    <tr>\n",
       "      <th>1</th>\n",
       "      <td>4</td>\n",
       "      <td>HDD</td>\n",
       "      <td>39.62</td>\n",
       "      <td>42490.0</td>\n",
       "    </tr>\n",
       "    <tr>\n",
       "      <th>2</th>\n",
       "      <td>8</td>\n",
       "      <td>SSD</td>\n",
       "      <td>39.62</td>\n",
       "      <td>79999.0</td>\n",
       "    </tr>\n",
       "    <tr>\n",
       "      <th>3</th>\n",
       "      <td>8</td>\n",
       "      <td>SSD</td>\n",
       "      <td>33.78</td>\n",
       "      <td>84900.0</td>\n",
       "    </tr>\n",
       "    <tr>\n",
       "      <th>4</th>\n",
       "      <td>8</td>\n",
       "      <td>Both</td>\n",
       "      <td>39.62</td>\n",
       "      <td>79690.0</td>\n",
       "    </tr>\n",
       "  </tbody>\n",
       "</table>\n",
       "</div>"
      ],
      "text/plain": [
       "   ram storage  display  org_price\n",
       "0    8     HDD    39.62    66190.0\n",
       "1    4     HDD    39.62    42490.0\n",
       "2    8     SSD    39.62    79999.0\n",
       "3    8     SSD    33.78    84900.0\n",
       "4    8    Both    39.62    79690.0"
      ]
     },
     "execution_count": 217,
     "metadata": {},
     "output_type": "execute_result"
    }
   ],
   "source": [
    "df_lappy.head()"
   ]
  },
  {
   "cell_type": "code",
   "execution_count": 218,
   "metadata": {},
   "outputs": [],
   "source": [
    "df_lappy.org_price = np.log(df_lappy.org_price)\n",
    "df_lappy.ram = np.log(df_lappy.ram)"
   ]
  },
  {
   "cell_type": "code",
   "execution_count": 219,
   "metadata": {},
   "outputs": [
    {
     "data": {
      "text/html": [
       "<div>\n",
       "<style scoped>\n",
       "    .dataframe tbody tr th:only-of-type {\n",
       "        vertical-align: middle;\n",
       "    }\n",
       "\n",
       "    .dataframe tbody tr th {\n",
       "        vertical-align: top;\n",
       "    }\n",
       "\n",
       "    .dataframe thead th {\n",
       "        text-align: right;\n",
       "    }\n",
       "</style>\n",
       "<table border=\"1\" class=\"dataframe\">\n",
       "  <thead>\n",
       "    <tr style=\"text-align: right;\">\n",
       "      <th></th>\n",
       "      <th>ram</th>\n",
       "      <th>display</th>\n",
       "      <th>org_price</th>\n",
       "      <th>storage_HDD</th>\n",
       "      <th>storage_SSD</th>\n",
       "    </tr>\n",
       "  </thead>\n",
       "  <tbody>\n",
       "    <tr>\n",
       "      <th>0</th>\n",
       "      <td>2.079442</td>\n",
       "      <td>39.62</td>\n",
       "      <td>11.100285</td>\n",
       "      <td>1</td>\n",
       "      <td>0</td>\n",
       "    </tr>\n",
       "    <tr>\n",
       "      <th>1</th>\n",
       "      <td>1.386294</td>\n",
       "      <td>39.62</td>\n",
       "      <td>10.657024</td>\n",
       "      <td>1</td>\n",
       "      <td>0</td>\n",
       "    </tr>\n",
       "    <tr>\n",
       "      <th>2</th>\n",
       "      <td>2.079442</td>\n",
       "      <td>39.62</td>\n",
       "      <td>11.289769</td>\n",
       "      <td>0</td>\n",
       "      <td>1</td>\n",
       "    </tr>\n",
       "    <tr>\n",
       "      <th>3</th>\n",
       "      <td>2.079442</td>\n",
       "      <td>33.78</td>\n",
       "      <td>11.349229</td>\n",
       "      <td>0</td>\n",
       "      <td>1</td>\n",
       "    </tr>\n",
       "    <tr>\n",
       "      <th>4</th>\n",
       "      <td>2.079442</td>\n",
       "      <td>39.62</td>\n",
       "      <td>11.285899</td>\n",
       "      <td>0</td>\n",
       "      <td>0</td>\n",
       "    </tr>\n",
       "  </tbody>\n",
       "</table>\n",
       "</div>"
      ],
      "text/plain": [
       "        ram  display  org_price  storage_HDD  storage_SSD\n",
       "0  2.079442    39.62  11.100285            1            0\n",
       "1  1.386294    39.62  10.657024            1            0\n",
       "2  2.079442    39.62  11.289769            0            1\n",
       "3  2.079442    33.78  11.349229            0            1\n",
       "4  2.079442    39.62  11.285899            0            0"
      ]
     },
     "execution_count": 219,
     "metadata": {},
     "output_type": "execute_result"
    }
   ],
   "source": [
    "df_lappy = pd.get_dummies(df_lappy, drop_first=True)\n",
    "df_lappy.head()"
   ]
  },
  {
   "cell_type": "code",
   "execution_count": 220,
   "metadata": {},
   "outputs": [
    {
     "name": "stdout",
     "output_type": "stream",
     "text": [
      "(460, 5)\n",
      "(460,)\n",
      "(116, 5)\n",
      "(116,)\n"
     ]
    }
   ],
   "source": [
    "X = sm.add_constant(df_lappy)\n",
    "X.drop('org_price', axis = 1, inplace = True)\n",
    "\n",
    "Y = df_lappy['org_price']\n",
    "\n",
    "train_x, test_x, train_y, test_y = train_test_split(X, Y, test_size = 0.2, random_state = 10)\n",
    "\n",
    "print(train_x.shape)\n",
    "print(train_y.shape)\n",
    "print(test_x.shape)\n",
    "print(test_y.shape)"
   ]
  },
  {
   "cell_type": "code",
   "execution_count": 221,
   "metadata": {
    "scrolled": false
   },
   "outputs": [
    {
     "name": "stdout",
     "output_type": "stream",
     "text": [
      "                            OLS Regression Results                            \n",
      "==============================================================================\n",
      "Dep. Variable:              org_price   R-squared:                       0.714\n",
      "Model:                            OLS   Adj. R-squared:                  0.712\n",
      "Method:                 Least Squares   F-statistic:                     284.1\n",
      "Date:                Thu, 22 Oct 2020   Prob (F-statistic):          3.18e-122\n",
      "Time:                        21:14:44   Log-Likelihood:                -102.47\n",
      "No. Observations:                 460   AIC:                             214.9\n",
      "Df Residuals:                     455   BIC:                             235.6\n",
      "Df Model:                           4                                         \n",
      "Covariance Type:            nonrobust                                         \n",
      "===============================================================================\n",
      "                  coef    std err          t      P>|t|      [0.025      0.975]\n",
      "-------------------------------------------------------------------------------\n",
      "const           9.1731      0.236     38.818      0.000       8.709       9.637\n",
      "ram             0.9731      0.036     26.894      0.000       0.902       1.044\n",
      "display         0.0028      0.007      0.430      0.667      -0.010       0.016\n",
      "storage_HDD    -0.0985      0.044     -2.229      0.026      -0.185      -0.012\n",
      "storage_SSD    -0.0162      0.042     -0.381      0.703      -0.099       0.067\n",
      "==============================================================================\n",
      "Omnibus:                        5.645   Durbin-Watson:                   2.124\n",
      "Prob(Omnibus):                  0.059   Jarque-Bera (JB):                5.444\n",
      "Skew:                          -0.256   Prob(JB):                       0.0657\n",
      "Kurtosis:                       3.151   Cond. No.                         632.\n",
      "==============================================================================\n",
      "\n",
      "Warnings:\n",
      "[1] Standard Errors assume that the covariance matrix of the errors is correctly specified.\n"
     ]
    }
   ],
   "source": [
    "ols_model_2 = sm.OLS(train_y, train_x).fit()\n",
    "print(ols_model_2.summary())"
   ]
  },
  {
   "cell_type": "code",
   "execution_count": 224,
   "metadata": {},
   "outputs": [],
   "source": [
    "pred_y_2 = ols_model_2.predict(test_x)"
   ]
  },
  {
   "cell_type": "code",
   "execution_count": 225,
   "metadata": {},
   "outputs": [
    {
     "data": {
      "text/plain": [
       "0.2992998636883451"
      ]
     },
     "execution_count": 225,
     "metadata": {},
     "output_type": "execute_result"
    }
   ],
   "source": [
    "np.sqrt(mean_squared_error(test_y, pred_y_2))"
   ]
  },
  {
   "cell_type": "code",
   "execution_count": null,
   "metadata": {},
   "outputs": [],
   "source": [
    "model 1:  0.23\n",
    "model 2:  0.30"
   ]
  },
  {
   "cell_type": "code",
   "execution_count": null,
   "metadata": {},
   "outputs": [],
   "source": []
  },
  {
   "cell_type": "code",
   "execution_count": null,
   "metadata": {},
   "outputs": [],
   "source": []
  },
  {
   "cell_type": "code",
   "execution_count": null,
   "metadata": {},
   "outputs": [],
   "source": []
  },
  {
   "cell_type": "code",
   "execution_count": 223,
   "metadata": {},
   "outputs": [],
   "source": [
    "df_lappy.drop(['storage_HDD', 'storage_SSD'], axis = 1, inplace = True)"
   ]
  },
  {
   "cell_type": "code",
   "execution_count": 226,
   "metadata": {},
   "outputs": [
    {
     "data": {
      "text/html": [
       "<div>\n",
       "<style scoped>\n",
       "    .dataframe tbody tr th:only-of-type {\n",
       "        vertical-align: middle;\n",
       "    }\n",
       "\n",
       "    .dataframe tbody tr th {\n",
       "        vertical-align: top;\n",
       "    }\n",
       "\n",
       "    .dataframe thead th {\n",
       "        text-align: right;\n",
       "    }\n",
       "</style>\n",
       "<table border=\"1\" class=\"dataframe\">\n",
       "  <thead>\n",
       "    <tr style=\"text-align: right;\">\n",
       "      <th></th>\n",
       "      <th>ram</th>\n",
       "      <th>display</th>\n",
       "      <th>org_price</th>\n",
       "    </tr>\n",
       "  </thead>\n",
       "  <tbody>\n",
       "    <tr>\n",
       "      <th>0</th>\n",
       "      <td>2.079442</td>\n",
       "      <td>39.62</td>\n",
       "      <td>11.100285</td>\n",
       "    </tr>\n",
       "    <tr>\n",
       "      <th>1</th>\n",
       "      <td>1.386294</td>\n",
       "      <td>39.62</td>\n",
       "      <td>10.657024</td>\n",
       "    </tr>\n",
       "    <tr>\n",
       "      <th>2</th>\n",
       "      <td>2.079442</td>\n",
       "      <td>39.62</td>\n",
       "      <td>11.289769</td>\n",
       "    </tr>\n",
       "    <tr>\n",
       "      <th>3</th>\n",
       "      <td>2.079442</td>\n",
       "      <td>33.78</td>\n",
       "      <td>11.349229</td>\n",
       "    </tr>\n",
       "    <tr>\n",
       "      <th>4</th>\n",
       "      <td>2.079442</td>\n",
       "      <td>39.62</td>\n",
       "      <td>11.285899</td>\n",
       "    </tr>\n",
       "  </tbody>\n",
       "</table>\n",
       "</div>"
      ],
      "text/plain": [
       "        ram  display  org_price\n",
       "0  2.079442    39.62  11.100285\n",
       "1  1.386294    39.62  10.657024\n",
       "2  2.079442    39.62  11.289769\n",
       "3  2.079442    33.78  11.349229\n",
       "4  2.079442    39.62  11.285899"
      ]
     },
     "execution_count": 226,
     "metadata": {},
     "output_type": "execute_result"
    }
   ],
   "source": [
    "df_lappy.head()"
   ]
  },
  {
   "cell_type": "code",
   "execution_count": 227,
   "metadata": {},
   "outputs": [
    {
     "name": "stdout",
     "output_type": "stream",
     "text": [
      "(460, 3)\n",
      "(460,)\n",
      "(116, 3)\n",
      "(116,)\n"
     ]
    }
   ],
   "source": [
    "X = sm.add_constant(df_lappy)\n",
    "X.drop('org_price', axis = 1, inplace = True)\n",
    "\n",
    "Y = df_lappy['org_price']\n",
    "\n",
    "train_x, test_x, train_y, test_y = train_test_split(X, Y, test_size = 0.2, random_state = 10)\n",
    "\n",
    "print(train_x.shape)\n",
    "print(train_y.shape)\n",
    "print(test_x.shape)\n",
    "print(test_y.shape)"
   ]
  },
  {
   "cell_type": "code",
   "execution_count": 228,
   "metadata": {
    "scrolled": false
   },
   "outputs": [
    {
     "name": "stdout",
     "output_type": "stream",
     "text": [
      "                            OLS Regression Results                            \n",
      "==============================================================================\n",
      "Dep. Variable:              org_price   R-squared:                       0.710\n",
      "Model:                            OLS   Adj. R-squared:                  0.709\n",
      "Method:                 Least Squares   F-statistic:                     560.1\n",
      "Date:                Thu, 22 Oct 2020   Prob (F-statistic):          1.19e-123\n",
      "Time:                        21:20:45   Log-Likelihood:                -105.55\n",
      "No. Observations:                 460   AIC:                             217.1\n",
      "Df Residuals:                     457   BIC:                             229.5\n",
      "Df Model:                           2                                         \n",
      "Covariance Type:            nonrobust                                         \n",
      "==============================================================================\n",
      "                 coef    std err          t      P>|t|      [0.025      0.975]\n",
      "------------------------------------------------------------------------------\n",
      "const          9.2296      0.196     47.210      0.000       8.845       9.614\n",
      "ram            1.0146      0.032     32.137      0.000       0.953       1.077\n",
      "display       -0.0019      0.005     -0.356      0.722      -0.013       0.009\n",
      "==============================================================================\n",
      "Omnibus:                        2.056   Durbin-Watson:                   2.131\n",
      "Prob(Omnibus):                  0.358   Jarque-Bera (JB):                1.968\n",
      "Skew:                          -0.160   Prob(JB):                        0.374\n",
      "Kurtosis:                       3.015   Cond. No.                         518.\n",
      "==============================================================================\n",
      "\n",
      "Warnings:\n",
      "[1] Standard Errors assume that the covariance matrix of the errors is correctly specified.\n"
     ]
    }
   ],
   "source": [
    "ols_model_3 = sm.OLS(train_y, train_x).fit()\n",
    "print(ols_model_3.summary())"
   ]
  },
  {
   "cell_type": "code",
   "execution_count": 231,
   "metadata": {},
   "outputs": [],
   "source": [
    "pred_y_3 = ols_model_3.predict(test_x)"
   ]
  },
  {
   "cell_type": "code",
   "execution_count": 232,
   "metadata": {},
   "outputs": [
    {
     "data": {
      "text/plain": [
       "0.3056744549122622"
      ]
     },
     "execution_count": 232,
     "metadata": {},
     "output_type": "execute_result"
    }
   ],
   "source": [
    "np.sqrt(mean_squared_error(test_y, pred_y_3))"
   ]
  },
  {
   "cell_type": "code",
   "execution_count": null,
   "metadata": {},
   "outputs": [],
   "source": [
    "Model 1: 0.23\n",
    "Model 2: 0.299\n",
    "Model 3: 0.305"
   ]
  },
  {
   "cell_type": "code",
   "execution_count": null,
   "metadata": {},
   "outputs": [],
   "source": []
  },
  {
   "cell_type": "code",
   "execution_count": null,
   "metadata": {},
   "outputs": [],
   "source": []
  },
  {
   "cell_type": "code",
   "execution_count": null,
   "metadata": {},
   "outputs": [],
   "source": []
  },
  {
   "cell_type": "code",
   "execution_count": 229,
   "metadata": {},
   "outputs": [],
   "source": [
    "df_lappy.drop('display', axis = 1, inplace = True)"
   ]
  },
  {
   "cell_type": "code",
   "execution_count": 233,
   "metadata": {},
   "outputs": [
    {
     "name": "stdout",
     "output_type": "stream",
     "text": [
      "(460, 2)\n",
      "(460,)\n",
      "(116, 2)\n",
      "(116,)\n"
     ]
    }
   ],
   "source": [
    "X = sm.add_constant(df_lappy)\n",
    "X.drop('org_price', axis = 1, inplace = True)\n",
    "\n",
    "Y = df_lappy['org_price']\n",
    "\n",
    "train_x, test_x, train_y, test_y = train_test_split(X, Y, test_size = 0.2, random_state = 10)\n",
    "\n",
    "print(train_x.shape)\n",
    "print(train_y.shape)\n",
    "print(test_x.shape)\n",
    "print(test_y.shape)"
   ]
  },
  {
   "cell_type": "code",
   "execution_count": 235,
   "metadata": {
    "scrolled": false
   },
   "outputs": [
    {
     "name": "stdout",
     "output_type": "stream",
     "text": [
      "                            OLS Regression Results                            \n",
      "==============================================================================\n",
      "Dep. Variable:              org_price   R-squared:                       0.710\n",
      "Model:                            OLS   Adj. R-squared:                  0.710\n",
      "Method:                 Least Squares   F-statistic:                     1122.\n",
      "Date:                Thu, 22 Oct 2020   Prob (F-statistic):          3.01e-125\n",
      "Time:                        21:24:08   Log-Likelihood:                -105.62\n",
      "No. Observations:                 460   AIC:                             215.2\n",
      "Df Residuals:                     458   BIC:                             223.5\n",
      "Df Model:                           1                                         \n",
      "Covariance Type:            nonrobust                                         \n",
      "==============================================================================\n",
      "                 coef    std err          t      P>|t|      [0.025      0.975]\n",
      "------------------------------------------------------------------------------\n",
      "const          9.1636      0.062    147.684      0.000       9.042       9.286\n",
      "ram            1.0114      0.030     33.499      0.000       0.952       1.071\n",
      "==============================================================================\n",
      "Omnibus:                        1.767   Durbin-Watson:                   2.129\n",
      "Prob(Omnibus):                  0.413   Jarque-Bera (JB):                1.689\n",
      "Skew:                          -0.148   Prob(JB):                        0.430\n",
      "Kurtosis:                       3.010   Cond. No.                         11.0\n",
      "==============================================================================\n",
      "\n",
      "Warnings:\n",
      "[1] Standard Errors assume that the covariance matrix of the errors is correctly specified.\n"
     ]
    }
   ],
   "source": [
    "ols_model_4 = sm.OLS(train_y, train_x).fit()\n",
    "print(ols_model_4.summary())"
   ]
  },
  {
   "cell_type": "code",
   "execution_count": 236,
   "metadata": {},
   "outputs": [],
   "source": [
    "pred_y_4 = ols_model_4.predict(test_x)"
   ]
  },
  {
   "cell_type": "code",
   "execution_count": 237,
   "metadata": {},
   "outputs": [
    {
     "data": {
      "text/plain": [
       "0.3054747512274055"
      ]
     },
     "execution_count": 237,
     "metadata": {},
     "output_type": "execute_result"
    }
   ],
   "source": [
    "np.sqrt(mean_squared_error(test_y, pred_y_4))"
   ]
  },
  {
   "cell_type": "code",
   "execution_count": null,
   "metadata": {},
   "outputs": [],
   "source": [
    "Model 1: 0.23\n",
    "R2: 65%\n",
    "    \n",
    "Model 4: 0.305\n",
    "R2: 71%"
   ]
  },
  {
   "cell_type": "markdown",
   "metadata": {},
   "source": [
    "# Model 1"
   ]
  },
  {
   "cell_type": "code",
   "execution_count": 239,
   "metadata": {},
   "outputs": [
    {
     "name": "stdout",
     "output_type": "stream",
     "text": [
      "[11.8778717]\n"
     ]
    }
   ],
   "source": [
    "ram = 16\n",
    "display = 35\n",
    "ram = np.log(ram)\n",
    "\n",
    "res = ols_model_1.predict([1, ram, display])\n",
    "print(res)"
   ]
  },
  {
   "cell_type": "code",
   "execution_count": 240,
   "metadata": {},
   "outputs": [
    {
     "data": {
      "text/plain": [
       "array([144043.65576331])"
      ]
     },
     "execution_count": 240,
     "metadata": {},
     "output_type": "execute_result"
    }
   ],
   "source": [
    "np.exp(res)"
   ]
  },
  {
   "cell_type": "markdown",
   "metadata": {},
   "source": [
    "# Model 2"
   ]
  },
  {
   "cell_type": "code",
   "execution_count": 242,
   "metadata": {},
   "outputs": [
    {
     "name": "stdout",
     "output_type": "stream",
     "text": [
      "[11.87089082]\n"
     ]
    }
   ],
   "source": [
    "ram = 16\n",
    "display = 35\n",
    "\n",
    "\n",
    "ram = np.log(ram)\n",
    "\n",
    "res = ols_model_2.predict([1, ram, display, 1, 0])\n",
    "print(res)"
   ]
  },
  {
   "cell_type": "code",
   "execution_count": 243,
   "metadata": {},
   "outputs": [
    {
     "data": {
      "text/plain": [
       "array([143041.6066374])"
      ]
     },
     "execution_count": 243,
     "metadata": {},
     "output_type": "execute_result"
    }
   ],
   "source": [
    "np.exp(res)"
   ]
  },
  {
   "cell_type": "markdown",
   "metadata": {},
   "source": [
    "# Model 4"
   ]
  },
  {
   "cell_type": "code",
   "execution_count": 244,
   "metadata": {},
   "outputs": [
    {
     "name": "stdout",
     "output_type": "stream",
     "text": [
      "[11.96773757]\n"
     ]
    }
   ],
   "source": [
    "ram = 16\n",
    "\n",
    "ram = np.log(ram)\n",
    "\n",
    "res = ols_model_4.predict([1, ram])\n",
    "print(res)"
   ]
  },
  {
   "cell_type": "code",
   "execution_count": 245,
   "metadata": {},
   "outputs": [
    {
     "data": {
      "text/plain": [
       "array([157587.72517462])"
      ]
     },
     "execution_count": 245,
     "metadata": {},
     "output_type": "execute_result"
    }
   ],
   "source": [
    "np.exp(res)"
   ]
  }
 ],
 "metadata": {
  "kernelspec": {
   "display_name": "Python 3",
   "language": "python",
   "name": "python3"
  },
  "language_info": {
   "codemirror_mode": {
    "name": "ipython",
    "version": 3
   },
   "file_extension": ".py",
   "mimetype": "text/x-python",
   "name": "python",
   "nbconvert_exporter": "python",
   "pygments_lexer": "ipython3",
   "version": "3.7.6"
  }
 },
 "nbformat": 4,
 "nbformat_minor": 4
}
